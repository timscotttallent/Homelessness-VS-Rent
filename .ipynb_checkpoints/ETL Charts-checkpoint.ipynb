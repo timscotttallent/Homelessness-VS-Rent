{
 "cells": [
  {
   "cell_type": "code",
   "execution_count": 23,
   "metadata": {},
   "outputs": [],
   "source": [
    "import pandas as pd\n",
    "from sqlalchemy import create_engine\n",
    "import matplotlib.pyplot as plt\n",
    "import seaborn as sns\n",
    "import numpy as np\n",
    "#Pull in CSV paths\n",
    "csvHL = \"Resources/2007-2016-Homelessnewss-USA.csv\"\n",
    "csvRP = \"Resources/price.csv\"\n",
    "csvpop = \"Resources/datasets_1697_3211_Population-by-state (1).csv\"\n",
    "csvPPSQFT = \"Resources/pricepersqft.csv\""
   ]
  },
  {
   "cell_type": "code",
   "execution_count": 31,
   "metadata": {},
   "outputs": [],
   "source": [
    "#Prep CSV Paths for DataFrames\n",
    "homeless_data = pd.read_csv(csvHL)\n",
    "rentprice_data = pd.read_csv(csvRP)\n",
    "population_data = pd.read_csv(csvpop)\n",
    "pricepersqft_data = pd.read_csv(csvPPSQFT)\n",
    "#Set DataFrames\n",
    "homeless_df = pd.DataFrame(homeless_data)\n",
    "rentprice_df = pd.DataFrame(rentprice_data)\n",
    "population_df = pd.DataFrame(population_data)\n",
    "pricepersqft_df = pd.DataFrame(pricepersqft_data)\n",
    "#Transform Homeless CSV data to match Zillow Data Form"
   ]
  },
  {
   "cell_type": "code",
   "execution_count": 58,
   "metadata": {},
   "outputs": [
    {
     "data": {
      "text/plain": [
       "State            WY\n",
       "RP2011         2241\n",
       "RP2016         2535\n",
       "RP Var      461.735\n",
       "RP % CHG    36.7443\n",
       "dtype: object"
      ]
     },
     "execution_count": 58,
     "metadata": {},
     "output_type": "execute_result"
    }
   ],
   "source": [
    "# Perform Groupby on Rent Data by State with Average rent price\n",
    "#rentprice_df.filter(['State', 'January 2011', 'January 2016'])\n",
    "rentprice_mean = rentprice_df.groupby(['State']).mean()\n",
    "rentprice_mean_years = rentprice_mean.filter(['State',\n",
    "                                              'January 2011',\n",
    "                                              'January 2012',\n",
    "                                              'January 2013',\n",
    "                                              'January 2014',\n",
    "                                              'January 2015',\n",
    "                                              'January 2016',\n",
    "                                             ])\n",
    "\n",
    "#Re-name columns to match format from homeless DF\n",
    "rentprice_mean_years.columns = ['RP2011',\n",
    "                                'RP2012',\n",
    "                                'RP2013',\n",
    "                                'RP2014',\n",
    "                                'RP2015',\n",
    "                                'RP2016'\n",
    "                               ]\n",
    "#rentprice_mean_years\n",
    "\n",
    "rentprice_final = rentprice_mean_years.filter(['RP2011', 'RP2016'])\n",
    "rentprice_final[\"RP Var\"] = rentprice_final[\"RP2016\"] - rentprice_final[\"RP2011\"]\n",
    "rentprice_final[\"RP % CHG\"] = rentprice_final[\"RP Var\"] / rentprice_final[\"RP2011\"] * 100\n",
    "rentprice_final.reset_index(inplace=True)\n",
    "rentprice_final.head()\n",
    "rentprice_final.max()\n",
    "                                    "
   ]
  },
  {
   "cell_type": "code",
   "execution_count": 54,
   "metadata": {},
   "outputs": [
    {
     "name": "stdout",
     "output_type": "stream",
     "text": [
      "461.73511520737316\n"
     ]
    }
   ],
   "source": [
    "rentprice_final\n",
    "colunm = rentprice_final['RP Var']\n",
    "max_value = colunm.max()\n",
    "print(max_value)"
   ]
  },
  {
   "cell_type": "code",
   "execution_count": 35,
   "metadata": {},
   "outputs": [
    {
     "data": {
      "image/png": "[encoded data removed]",
      "text/plain": [
       "<Figure size 432x288 with 1 Axes>"
      ]
     },
     "metadata": {
      "needs_background": "light"
     },
     "output_type": "display_data"
    }
   ],
   "source": [
    "plt.scatter(rentprice_final['State'],rentprice_final['RP Var'])\n",
    "plt.xlabel('States')\n",
    "plt.ylabel('RP Var')\n",
    "plt.title('Average Rental Price By State')\n",
    "plt.show()"
   ]
  },
  {
   "cell_type": "code",
   "execution_count": null,
   "metadata": {},
   "outputs": [],
   "source": []
  }
 ],
 "metadata": {
  "kernelspec": {
   "display_name": "Python 3",
   "language": "python",
   "name": "python3"
  },
  "language_info": {
   "codemirror_mode": {
    "name": "ipython",
    "version": 3
   },
   "file_extension": ".py",
   "mimetype": "text/x-python",
   "name": "python",
   "nbconvert_exporter": "python",
   "pygments_lexer": "ipython3",
   "version": "3.7.6"
  }
 },
 "nbformat": 4,
 "nbformat_minor": 4
}
